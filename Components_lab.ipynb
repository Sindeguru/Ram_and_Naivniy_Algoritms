{
 "cells": [
  {
   "cell_type": "code",
   "execution_count": 1,
   "metadata": {},
   "outputs": [],
   "source": [
    "# Наивный O(nm) вершины на ребра. Цикл Рэма выполняентся m раз."
   ]
  },
  {
   "cell_type": "code",
   "execution_count": 119,
   "metadata": {},
   "outputs": [],
   "source": [
    "import networkx as nx\n",
    "import numpy.random as rnd\n",
    "import matplotlib.pyplot as plt"
   ]
  },
  {
   "cell_type": "code",
   "execution_count": 169,
   "metadata": {},
   "outputs": [],
   "source": [
    "def add_edge(f_item, s_item, graph=None):\n",
    "    '''Создаем ребра.\n",
    "    Функция в библиотеке создает изначально\n",
    "    однонорпавленную связь, которая нас\n",
    "    в нашей задаче не интересует'''\n",
    "    graph.add_edge(f_item, s_item)\n",
    "    graph.add_edge(s_item, s_item)"
   ]
  },
  {
   "cell_type": "code",
   "execution_count": 181,
   "metadata": {},
   "outputs": [
    {
     "name": "stdout",
     "output_type": "stream",
     "text": [
      "Граф:\n"
     ]
    },
    {
     "data": {
      "image/png": "[encoded data removed]",
      "text/plain": [
       "<Figure size 432x288 with 1 Axes>"
      ]
     },
     "metadata": {},
     "output_type": "display_data"
    }
   ],
   "source": [
    "#Создание графа\n",
    "graph = nx.Graph()\n",
    "\n",
    "#Добавляем вершину\n",
    "graph.add_node(1)\n",
    "graph.add_node(2)\n",
    "graph.add_node(3)\n",
    "graph.add_node(10)\n",
    "\n",
    "#Несколько ребер и вывод на экран\n",
    "add_edge(1, 2, graph=graph)\n",
    "add_edge(2, 3, graph=graph)\n",
    "add_edge(2, 4, graph=graph)\n",
    "add_edge(4, 5, graph=graph)\n",
    "\n",
    "add_edge(6, 9, graph=graph)\n",
    "add_edge(9, 8, graph=graph)\n",
    "add_edge(8, 7, graph=graph)\n",
    "add_edge(7, 6, graph=graph)\n",
    "add_edge(6, 8, graph=graph)\n",
    "add_edge(7, 9, graph=graph)\n",
    "\n",
    "add_edge(11, 12, graph=graph)\n",
    "\n",
    "\n",
    "print(\"Граф:\")\n",
    "nx.draw_circular(graph,\n",
    "         node_color='red',\n",
    "         node_size=1000,\n",
    "         with_labels=True)"
   ]
  },
  {
   "cell_type": "code",
   "execution_count": 183,
   "metadata": {},
   "outputs": [
    {
     "name": "stdout",
     "output_type": "stream",
     "text": [
      "Всего компонент:  4\n",
      "Вершины и номер компоненты:\n",
      "[1, 1, 1, 1, 1, 3, 3, 3, 3, 2, 4, 4]\n"
     ]
    }
   ],
   "source": [
    "def dfs(point, G, used, N):\n",
    "    '''\n",
    "    Обход в глубину.\n",
    "    point - на какой точке стоим\n",
    "    G - исследуемый граф\n",
    "    used - рассмотренные вершины\n",
    "    '''\n",
    "    used[point-1] = N\n",
    "    for neighbour in G[point]:\n",
    "        if used[neighbour-1]==0:\n",
    "            dfs(neighbour, G, used, N)\n",
    "            \n",
    "used = []\n",
    "N=0\n",
    "for i in range(len(graph.nodes())):\n",
    "    used.append(0)\n",
    "for point in graph:\n",
    "    if used[point-1]==0:\n",
    "        N+=1\n",
    "        dfs(point, graph, used, N)\n",
    "        \n",
    "print(\"Всего компонент: \", N)\n",
    "print('Вершины и номер компоненты:')\n",
    "print(used)"
   ]
  },
  {
   "cell_type": "code",
   "execution_count": 188,
   "metadata": {},
   "outputs": [],
   "source": [
    "def naivn(G):\n",
    "    '''\n",
    "    Решение в лоб\n",
    "    '''\n",
    "    n = len(G)\n",
    "    #Создание массива, в котором хранится некий номер компоненты\n",
    "    count = []\n",
    "    for i in range(n):\n",
    "        count.append(i+1)\n",
    "\n",
    "    #Определение, к какой компоненте привязана вершина\n",
    "    key = True   \n",
    "    while(key == True):\n",
    "        key = False\n",
    "        for i in range(n):\n",
    "            min = count[i]\n",
    "            for j in range(n):\n",
    "                if G[i][j] != 0:\n",
    "                    if min > G[i][j]:\n",
    "                        min = G[i][j]\n",
    "                        key = True\n",
    "                    G[i][j] = min\n",
    "                    G[j][i] = min\n",
    "                        \n",
    "            count[i] = min\n",
    "    print(\"Вершины с их номером компоненты: \")\n",
    "    print(count)\n",
    "    return count"
   ]
  },
  {
   "cell_type": "code",
   "execution_count": 189,
   "metadata": {},
   "outputs": [],
   "source": [
    "def intoGraph(mass):\n",
    "    '''\n",
    "    Перенос массива смежностей в объект nx.Graph\n",
    "    Вывод его на экран и сохранение в return\n",
    "    '''\n",
    "    n = len(mass)\n",
    "    Graph = nx.Graph()\n",
    "    for i in range(n):\n",
    "        Graph.add_node(i+1)\n",
    "    for i in range(n):\n",
    "        for j in range(n):\n",
    "            if(mass[i][j]!=0):\n",
    "                Graph.add_edge(i+1,j+1,graph=Graph)\n",
    "    #Вывод на экрна\n",
    "    nx.draw_circular(Graph,\n",
    "                     node_color='red',\n",
    "                     node_size=1000,\n",
    "                     with_labels=True)\n",
    "    return Graph"
   ]
  },
  {
   "cell_type": "code",
   "execution_count": 190,
   "metadata": {},
   "outputs": [
    {
     "name": "stdout",
     "output_type": "stream",
     "text": [
      "Вершины с их номером компоненты: \n",
      "[1, 1, 1, 1, 1, 6, 6, 6]\n"
     ]
    },
    {
     "data": {
      "text/plain": [
       "<networkx.classes.graph.Graph at 0x20a66e52100>"
      ]
     },
     "execution_count": 190,
     "metadata": {},
     "output_type": "execute_result"
    },
    {
     "data": {
      "image/png": "[encoded data removed]",
      "text/plain": [
       "<Figure size 432x288 with 1 Axes>"
      ]
     },
     "metadata": {},
     "output_type": "display_data"
    }
   ],
   "source": [
    "mass = [[1, 0, 3, 4, 5,0,0,0],\n",
    "        [0, 2, 0, 4, 5,0,0,0],\n",
    "        [1, 0, 3, 0, 0,0,0,0],\n",
    "        [1, 2, 0, 4, 5,0,0,0],\n",
    "        [1, 2, 0, 4, 5,0,0,0],\n",
    "        [0, 0, 0, 0, 0,6,7,8],\n",
    "        [0, 0, 0, 0, 0,6,7,8],\n",
    "        [0, 0, 0, 0, 0,6,7,8],]\n",
    "\n",
    "a = naivn(mass)\n",
    "intoGraph(mass)"
   ]
  },
  {
   "cell_type": "code",
   "execution_count": 191,
   "metadata": {},
   "outputs": [],
   "source": [
    "col = {}\n",
    "def create(x):\n",
    "    '''\n",
    "    Создает подмножество элемента x с названием x\n",
    "    '''\n",
    "    col[x]=x\n",
    "    \n",
    "def unite(x,y):\n",
    "    '''\n",
    "    Объединение двух подмножеств.\n",
    "    Оба удаляются и формируют объединенное.\n",
    "    '''\n",
    "    val = 0\n",
    "    x1 = col.pop(x)\n",
    "    if(type(x1)==type(val)):\n",
    "        x1=[x1]\n",
    "    x2 = col.pop(y)\n",
    "    if(type(x2)==type(val)):\n",
    "        x2=[x2]\n",
    "    col[x] = x1+x2\n",
    "    \n",
    "    \n",
    "def find(x):\n",
    "    '''\n",
    "    Поиск множества, к которому принадлежит x\n",
    "    '''\n",
    "    #print('FIND')\n",
    "    Err = 0\n",
    "    for i in col.items():\n",
    "        if type(i[1]) != type(Err):\n",
    "            for j in i[1]:\n",
    "                if(j==x):\n",
    "                    return i[0]\n",
    "        else:\n",
    "            if(i[1] == x):\n",
    "                return i[0]\n",
    "            \n",
    "    return Err"
   ]
  },
  {
   "cell_type": "code",
   "execution_count": 192,
   "metadata": {},
   "outputs": [],
   "source": [
    "def Ram(G, n):\n",
    "    '''\n",
    "    Реализация алгоритма Рэма\n",
    "    '''\n",
    "    # 1. Создаем n синглетонов\n",
    "    for i in range(1,n+1):\n",
    "        create(i)\n",
    "    # 2. Читаем ребра\n",
    "    for i,j in G: # 3,4. Поиск множеств, которые соединяем\n",
    "        X1 = find(i)\n",
    "        X2 = find(j)\n",
    "        if(X1 != X2): # 5,6. Проверка и объединение\n",
    "            unite(X1, X2)"
   ]
  },
  {
   "cell_type": "code",
   "execution_count": 193,
   "metadata": {},
   "outputs": [
    {
     "name": "stdout",
     "output_type": "stream",
     "text": [
      "Компонента : ее вершины\n",
      "{10: 10, 1: [1, 2, 3, 4, 5], 6: [6, 9, 7, 8], 11: [11, 12]}\n"
     ]
    },
    {
     "data": {
      "image/png": "[encoded data removed]",
      "text/plain": [
       "<Figure size 432x288 with 1 Axes>"
      ]
     },
     "metadata": {},
     "output_type": "display_data"
    }
   ],
   "source": [
    "Ram(list(graph.edges), graph.number_of_nodes())\n",
    "\n",
    "print(\"Компонента : ее вершины\")\n",
    "print(col)\n",
    "\n",
    "nx.draw_circular(graph,\n",
    "         node_color='red',\n",
    "         node_size=1000,\n",
    "         with_labels=True)"
   ]
  },
  {
   "cell_type": "code",
   "execution_count": 194,
   "metadata": {},
   "outputs": [],
   "source": [
    "def naivn_edges(G, n):\n",
    "    '''\n",
    "    Решение в лоб c таким же входом, как в Ram\n",
    "    '''\n",
    "    #Создание массива, в котором хранится некий номер компоненты\n",
    "    count = []\n",
    "    for i in range(n):\n",
    "        count.append(i+1)\n",
    "\n",
    "    #Определение, к какой компоненте привязана вершина\n",
    "    key = True   \n",
    "    while(key == True):\n",
    "        key = False\n",
    "        \n",
    "        for i,j in G:\n",
    "            if(count[i-1] != count[j-1]):\n",
    "                val = min(count[i-1],count[j-1])\n",
    "                if(val > count[j-1]):\n",
    "                    val = count[j-1]\n",
    "                if(val > count[i-1]):\n",
    "                    val = count[i-1]\n",
    "                count[i-1] = val\n",
    "                count[j-1] = val\n",
    "                key = True\n",
    "                \n",
    "    print(\"Вершины с их номером компоненты: \")\n",
    "    print(count)\n",
    "    return count"
   ]
  },
  {
   "cell_type": "code",
   "execution_count": 196,
   "metadata": {},
   "outputs": [
    {
     "name": "stdout",
     "output_type": "stream",
     "text": [
      "Вершины с их номером компоненты: \n",
      "[1, 1, 1, 1, 1, 6, 6, 6, 6, 10, 11, 11]\n",
      "Граф: \n"
     ]
    },
    {
     "data": {
      "image/png": "[encoded data removed]",
      "text/plain": [
       "<Figure size 432x288 with 1 Axes>"
      ]
     },
     "metadata": {},
     "output_type": "display_data"
    }
   ],
   "source": [
    "naivn_edges(list(graph.edges), graph.number_of_nodes())\n",
    "\n",
    "print(\"Граф: \")\n",
    "nx.draw_circular(graph,\n",
    "         node_color='red',\n",
    "         node_size=1000,\n",
    "         with_labels=True)"
   ]
  }
 ],
 "metadata": {
  "kernelspec": {
   "display_name": "Python 3",
   "language": "python",
   "name": "python3"
  },
  "language_info": {
   "codemirror_mode": {
    "name": "ipython",
    "version": 3
   },
   "file_extension": ".py",
   "mimetype": "text/x-python",
   "name": "python",
   "nbconvert_exporter": "python",
   "pygments_lexer": "ipython3",
   "version": "3.8.5"
  }
 },
 "nbformat": 4,
 "nbformat_minor": 4
}
